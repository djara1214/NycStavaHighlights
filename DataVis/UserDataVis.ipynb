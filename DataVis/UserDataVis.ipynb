{
 "cells": [
  {
   "cell_type": "code",
   "execution_count": 20,
   "metadata": {},
   "outputs": [],
   "source": [
    "import pandas as pd\n",
    "import matplotlib.pyplot as plt\n",
    "from bokeh.plotting import figure, output_file, show\n",
    "from bokeh.layouts import column\n",
    "from bokeh.models import ColumnDataSource\n",
    "from bokeh.models import Legend\n",
    "import numpy as np"
   ]
  },
  {
   "cell_type": "code",
   "execution_count": 21,
   "metadata": {},
   "outputs": [],
   "source": [
    "df = pd.read_csv(r'scrapeTest_STRAVA_withDf_1_FINAL_FOR_TESTING.csv')"
   ]
  },
  {
   "cell_type": "markdown",
   "metadata": {},
   "source": [
    "## Riders with the most leadboard positions"
   ]
  },
  {
   "cell_type": "code",
   "execution_count": 22,
   "metadata": {},
   "outputs": [
    {
     "name": "stdout",
     "output_type": "stream",
     "text": [
      "                        athlete_name  count\n",
      "0                Mars Cirilli 🇮🇹🇺🇸🇧🇷    140\n",
      "140                     Andrew Wells    133\n",
      "273                   David Melendez    114\n",
      "387                     Akiva Wasser     70\n",
      "457                       Kelvin Mai     66\n",
      "523                       Rob Oliver     63\n",
      "586                     Eric Schmidt     61\n",
      "647                         Joe Todd     60\n",
      "707                     Peter Bejzol     59\n",
      "766                    Azriel Wasser     56\n",
      "822                   Bogdan Wielgos     53\n",
      "875                       Bryam Mora     53\n",
      "928                  Vincent Ribeiro     51\n",
      "979                   William Hacker     51\n",
      "1030                   Nolan Montiel     51\n",
      "1081                George Schroeder     48\n",
      "1082  George Schroeder - R.I.P. Noel     48\n",
      "1129                     Aidan Moran     48\n",
      "1177                  Chris Williams     47\n",
      "1224                        bg payne     47\n"
     ]
    }
   ],
   "source": [
    "#count each person's occurence \n",
    "athlete_counts = df['athlete_id'].value_counts()\n",
    "\n",
    "#merge series and their respective id in new DF\n",
    "athlete_info = pd.DataFrame({'athlete_id': athlete_counts.index, 'count': athlete_counts.values})\n",
    "\n",
    "#merge names with their respective id number\n",
    "result = pd.merge(athlete_info, df[['athlete_id', 'athlete_name']], on='athlete_id').drop_duplicates()\n",
    "\n",
    "print(result[['athlete_name', 'count']].head(20))"
   ]
  },
  {
   "cell_type": "markdown",
   "metadata": {},
   "source": [
    "## TOP 10 density chart"
   ]
  },
  {
   "cell_type": "code",
   "execution_count": 23,
   "metadata": {},
   "outputs": [],
   "source": [
    "# Select top 10 athletes whose athlete_id occurs the most\n",
    "top_10_athletes = df['athlete_id'].value_counts().nlargest(10).index\n",
    "\n",
    "#include only the top 10 athletes\n",
    "top_10_df = df[df['athlete_id'].isin(top_10_athletes)]\n",
    "\n",
    "#map athlete IDs to names with a dictionary\n",
    "id_to_name = dict(zip(top_10_df['athlete_id'], top_10_df['athlete_name']))\n",
    "\n",
    "#create Bokeh figure for plotting\n",
    "p = figure(title='Density Plot of Rank for Top 10 Athletes', x_axis_label='Rank', y_axis_label='Density')\n",
    "\n",
    "#color palette for each athlete\n",
    "palette = ['#1f77b4', '#ff7f0e', '#2ca02c', '#d62728', '#9467bd', '#8c564b', '#e377c2', '#7f7f7f', '#bcbd22', '#17becf']\n",
    "\n",
    "#plot each athlete's density plot\n",
    "legends = []\n",
    "for i, (athlete_id, data) in enumerate(top_10_df.groupby('athlete_id')):\n",
    "    athlete_name = id_to_name[athlete_id]\n",
    "    hist, edges = np.histogram(data['rank'], density=True, bins=10)\n",
    "    glyph = p.quad(top=hist, bottom=0, left=edges[:-1], right=edges[1:], fill_color=palette[i], line_color=None, alpha=0.5)\n",
    "    legends.append((athlete_name, [glyph]))\n",
    "\n",
    "legend = Legend(items=legends, location='top_right')\n",
    "p.add_layout(legend)\n",
    "output_file(\"density_plot.html\")\n",
    "show(p)"
   ]
  },
  {
   "cell_type": "markdown",
   "metadata": {},
   "source": [
    "## Placement by month"
   ]
  },
  {
   "cell_type": "code",
   "execution_count": 24,
   "metadata": {},
   "outputs": [],
   "source": [
    "#set column to proper formating for date manipulation \n",
    "df['date'] = pd.to_datetime(df['date'], format='%b %d, %Y')"
   ]
  },
  {
   "cell_type": "code",
   "execution_count": 25,
   "metadata": {},
   "outputs": [],
   "source": [
    "#group by month and count occurrences by month\n",
    "counts = df.groupby(df[\"date\"].dt.month).date.count()\n",
    "\n",
    "#define months to match data and their corresponding names for plotting \n",
    "x_vals = list(counts.index)\n",
    "x_names = [\"January\", \"February\", \"March\", \"April\", \"May\", \"June\", \"July\", \"August\", \"September\", \"October\", \"November\", \"December\"]\n",
    "\n",
    "#create Bokeh figure for plotting\n",
    "p = figure(x_range=x_names, title='Leaderboard Placements by Month', x_axis_label='Month', y_axis_label='Top Leaderboard Placement')\n",
    "source = ColumnDataSource(data=dict(x=x_names, counts=counts.values))\n",
    "p.vbar(x='x', top='counts', width=0.5, source=source, color=\"blue\", alpha=0.7)\n",
    "p.text(x='x', y='counts', text='counts', text_align='center', text_baseline='bottom', text_font_size=\"10pt\", source=source)\n",
    "p.xaxis.major_label_orientation = \"vertical\"\n",
    "\n",
    "output_file(\"leaderboard_placements_month.html\")\n",
    "show(p)"
   ]
  },
  {
   "cell_type": "markdown",
   "metadata": {},
   "source": [
    "## Segments with smallest GAPS"
   ]
  },
  {
   "cell_type": "markdown",
   "metadata": {},
   "source": [
    "This data point will show which routes have the closest average time for top leaderboard placements, this means most people at the top of the leaderboard will have approximately the same time. This is good to know if you want to get on to the leaderboard and want to avoid segments that are harder to get top ranking in."
   ]
  },
  {
   "cell_type": "code",
   "execution_count": 26,
   "metadata": {},
   "outputs": [
    {
     "name": "stdout",
     "output_type": "stream",
     "text": [
      "         SegNum            time\n",
      "0      24478874 0 days 00:09:12\n",
      "1      24478874 0 days 00:11:03\n",
      "2      24478874 0 days 00:11:16\n",
      "3      24478874 0 days 00:13:44\n",
      "4      24478874 0 days 00:15:19\n",
      "...         ...             ...\n",
      "33247  28891234 0 days 00:09:04\n",
      "33248  28891234 0 days 00:09:09\n",
      "33249  28891234 0 days 00:09:16\n",
      "33250  28891234 0 days 00:09:31\n",
      "33251  28891234 0 days 00:13:07\n",
      "\n",
      "[33252 rows x 2 columns]\n"
     ]
    }
   ],
   "source": [
    "df_time=df.copy()\n",
    "\n",
    "#convert times to timedelta\n",
    "def convert_to_timedelta(time_str):\n",
    "    if 's' in time_str:\n",
    "        seconds = int(time_str[:-1])\n",
    "        return pd.Timedelta(seconds=seconds)\n",
    "    elif ':' in time_str:\n",
    "        parts = time_str.split(':')\n",
    "        minutes = int(parts[0])\n",
    "        seconds = int(parts[1])\n",
    "        return pd.Timedelta(minutes=minutes, seconds=seconds)\n",
    "    else:\n",
    "        return pd.to_timedelta(time_str)\n",
    "\n",
    "df_time['time'] = df_time['time'].apply(convert_to_timedelta)\n",
    "\n",
    "print(df_time[['SegNum', 'time']])"
   ]
  },
  {
   "cell_type": "code",
   "execution_count": 27,
   "metadata": {},
   "outputs": [
    {
     "name": "stdout",
     "output_type": "stream",
     "text": [
      "SegNum\n",
      "8065205    0 days 00:00:00\n",
      "13439221   0 days 00:00:00\n",
      "11238721   0 days 00:00:01\n",
      "12408926   0 days 00:00:02\n",
      "1750576    0 days 00:00:02\n",
      "8646723    0 days 00:00:02\n",
      "16425679   0 days 00:00:02\n",
      "9197143    0 days 00:00:02\n",
      "2734138    0 days 00:00:02\n",
      "1995199    0 days 00:00:02\n",
      "613198     0 days 00:00:02\n",
      "21458728   0 days 00:00:03\n",
      "3884715    0 days 00:00:03\n",
      "21367438   0 days 00:00:03\n",
      "4934816    0 days 00:00:03\n",
      "Name: time, dtype: timedelta64[ns]\n"
     ]
    }
   ],
   "source": [
    "#group by SegNum and calculate the gap in time taken for each segment \n",
    "grouped = df_time.groupby('SegNum')['time'].apply(lambda x: x.max() - x.min())\n",
    "\n",
    "#sort by smalled gaptimes\n",
    "sorted_routes = grouped.sort_values()\n",
    "\n",
    "#select top 15 (smallest gaps)\n",
    "top_15_routes = sorted_routes.head(15)\n",
    "\n",
    "print(top_15_routes)\n",
    "#operation that is not shown in file:\n",
    "#matching with Segment name and the modifcation of how time will be shown e.g. the value \"0 days 00:00:03\" will be shown as \"3 seconds\" on map"
   ]
  }
 ],
 "metadata": {
  "kernelspec": {
   "display_name": "StravaLeadersEnv",
   "language": "python",
   "name": "python3"
  },
  "language_info": {
   "codemirror_mode": {
    "name": "ipython",
    "version": 3
   },
   "file_extension": ".py",
   "mimetype": "text/x-python",
   "name": "python",
   "nbconvert_exporter": "python",
   "pygments_lexer": "ipython3",
   "version": "3.9.13"
  }
 },
 "nbformat": 4,
 "nbformat_minor": 2
}

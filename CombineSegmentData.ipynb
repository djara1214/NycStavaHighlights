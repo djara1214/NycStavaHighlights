{
  "nbformat": 4,
  "nbformat_minor": 0,
  "metadata": {
    "colab": {
      "provenance": []
    },
    "kernelspec": {
      "name": "python3",
      "display_name": "Python 3"
    },
    "language_info": {
      "name": "python"
    }
  },
  "cells": [
    {
      "cell_type": "code",
      "execution_count": 2,
      "metadata": {
        "id": "USNvPFKATqzV"
      },
      "outputs": [],
      "source": [
        "import pandas as pd\n",
        "import os"
      ]
    },
    {
      "cell_type": "code",
      "source": [
        "from google.colab import drive\n",
        "drive.mount('drive')"
      ],
      "metadata": {
        "id": "TOC2qyiRjSYO"
      },
      "execution_count": null,
      "outputs": []
    },
    {
      "cell_type": "code",
      "source": [
        "#list of all segment files\n",
        "files = os.listdir('allSegments')\n",
        "# Iterate through the list of files\n",
        "for file in files:\n",
        "  print(file)"
      ],
      "metadata": {
        "colab": {
          "base_uri": "https://localhost:8080/"
        },
        "id": "1XfVLzIMWkNP",
        "outputId": "9f9fa0ad-993a-44d0-b54d-9016a4d248e6"
      },
      "execution_count": 45,
      "outputs": [
        {
          "output_type": "stream",
          "name": "stdout",
          "text": [
            "Seg_20.csv\n",
            "Seg_100_2try_69ttl.csv\n",
            "Seg_200_squareboxes1_1017ttl.csv\n",
            "Seg_100_4try_43ttl.csv\n",
            "Seg_100_3try_81ttl.csv\n",
            "Seg_200_squareboxes2_1258ttl.csv\n",
            "Seg_100.csv\n",
            "firstRunSeg.csv\n",
            "Seg_100_5try_54ttl.csv\n"
          ]
        }
      ]
    },
    {
      "cell_type": "code",
      "source": [
        "# empty DF to store set of segments\n",
        "combined_data = pd.DataFrame(columns=[\"SegName\", \"SegNum\"])\n",
        "#Path\n",
        "folder_path = \"/content/allSegments\"\n",
        "\n",
        "for file in os.listdir(folder_path):\n",
        "    #Only use CSV files\n",
        "    if file.endswith(\".csv\"):\n",
        "        file_path = os.path.join(folder_path, file)\n",
        "\n",
        "        segment_data = pd.read_csv(file_path)\n",
        "        # Unique SegNums ONLY\n",
        "        segment_data.drop_duplicates(subset=\"SegNum\", inplace=True)\n",
        "        #Concat current csv(DF) to full segment DF\n",
        "        combined_data = pd.concat([combined_data, segment_data], ignore_index=True)\n",
        "\n",
        "#Delete Duplicated and fix DF\n",
        "combined_data=combined_data.drop('Unnamed: 0', axis=1)\n",
        "combined_data.drop_duplicates(subset=\"SegNum\", inplace=True)"
      ],
      "metadata": {
        "id": "ihjyxPa1uWGU"
      },
      "execution_count": 46,
      "outputs": []
    },
    {
      "cell_type": "code",
      "source": [
        "combined_data.info()"
      ],
      "metadata": {
        "colab": {
          "base_uri": "https://localhost:8080/"
        },
        "outputId": "1721134f-0635-44fa-90a2-62cd4a57c9eb",
        "id": "t0D3raI-wAKM"
      },
      "execution_count": 47,
      "outputs": [
        {
          "output_type": "stream",
          "name": "stdout",
          "text": [
            "<class 'pandas.core.frame.DataFrame'>\n",
            "Int64Index: 1860 entries, 0 to 2872\n",
            "Data columns (total 2 columns):\n",
            " #   Column   Non-Null Count  Dtype \n",
            "---  ------   --------------  ----- \n",
            " 0   SegName  1860 non-null   object\n",
            " 1   SegNum   1860 non-null   object\n",
            "dtypes: object(2)\n",
            "memory usage: 43.6+ KB\n"
          ]
        }
      ]
    },
    {
      "cell_type": "code",
      "source": [
        "combined_data.SegName.nunique()"
      ],
      "metadata": {
        "colab": {
          "base_uri": "https://localhost:8080/"
        },
        "id": "UL0gyYRkj_E7",
        "outputId": "35d7eace-decd-4c2f-882a-1db0dfcfe5aa"
      },
      "execution_count": 48,
      "outputs": [
        {
          "output_type": "execute_result",
          "data": {
            "text/plain": [
              "1845"
            ]
          },
          "metadata": {},
          "execution_count": 48
        }
      ]
    },
    {
      "cell_type": "code",
      "source": [
        "combined_data.SegNum.nunique()"
      ],
      "metadata": {
        "colab": {
          "base_uri": "https://localhost:8080/"
        },
        "id": "DiWkVBz7wNAU",
        "outputId": "b0b0f6f6-0286-4c41-c42d-249a3dc9737f"
      },
      "execution_count": 43,
      "outputs": [
        {
          "output_type": "execute_result",
          "data": {
            "text/plain": [
              "1860"
            ]
          },
          "metadata": {},
          "execution_count": 43
        }
      ]
    },
    {
      "cell_type": "code",
      "source": [
        "combined_data.to_csv(\"SegmentData1.csv\")\n",
        "!cp SegmentData1.csv \"drive/My Drive/\""
      ],
      "metadata": {
        "id": "ZuA4LMUuxCS-"
      },
      "execution_count": 44,
      "outputs": []
    }
  ]
}